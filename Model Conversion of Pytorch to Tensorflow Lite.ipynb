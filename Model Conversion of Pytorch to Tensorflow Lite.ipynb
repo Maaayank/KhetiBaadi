{
 "cells": [
  {
   "cell_type": "code",
   "execution_count": null,
   "metadata": {},
   "outputs": [],
   "source": [
    "# Converting pytorch model to onnx model\n",
    "\n",
    "import torch\n",
    "import torch.onnx\n",
    "from torchvision import models\n",
    "\n",
    "# A model class instance (class not shown)\n",
    "model = models.resnet152(pretrained=True)\n",
    "for param in model.parameters():\n",
    "    param.requires_grad = False\n",
    "\n",
    "# Load the weights from a file (.pth usually)\n",
    "state_dict = torch.load('C:\\\\Users\\Admin\\Downloads\\plants_disease_checkpoint.pth', map_location=lambda storage, loc: storage)\n",
    "\n",
    "# Load the weights now into a model net architecture defined by our class\n",
    "model.load_state_dict(state_dict)\n",
    "\n",
    "# Create the right input shape (e.g. for an image)\n",
    "dummy_input = torch.randn(batch_size, 1, 224, 224, requires_grad=True)\n",
    "\n",
    "torch.onnx.export(model, dummy_input, \"plants_disease_checkpoint_name.onnx\")"
   ]
  },
  {
   "cell_type": "code",
   "execution_count": null,
   "metadata": {},
   "outputs": [],
   "source": [
    "# Converting onnx model to tensorflow graph_def\n",
    "\n",
    "from onnx_tf import prepare\n",
    "\n",
    "onnx_model = onnx.load('plants_disease_checkpoint_name.onnx')\n",
    "tf_rep = prepare(onnx_model, strict=False)\n",
    "tf_pb_path = 'plants_disease_checkpoint_name_graph.pb'\n",
    "tf_rep.export_graph(tf_pb_path)"
   ]
  },
  {
   "cell_type": "code",
   "execution_count": null,
   "metadata": {},
   "outputs": [],
   "source": [
    "# Converting tensorflow graph_def to tensorflow lite\n",
    "\n",
    "import tensorflow as tf\n",
    "\n",
    "converter = tf.lite.TFLiteConverter.from_saved_model('plants_disease_checkpoint_name_graph.pb')\n",
    "tflite_model = converter.convert()\n",
    "open(\"plants_disease_checkpoint_name_graph_tflite\", \"wb\").write(tflite_model)"
   ]
  }
 ],
 "metadata": {
  "kernelspec": {
   "display_name": "Python 3",
   "language": "python",
   "name": "python3"
  },
  "language_info": {
   "codemirror_mode": {
    "name": "ipython",
    "version": 3
   },
   "file_extension": ".py",
   "mimetype": "text/x-python",
   "name": "python",
   "nbconvert_exporter": "python",
   "pygments_lexer": "ipython3",
   "version": "3.7.3"
  }
 },
 "nbformat": 4,
 "nbformat_minor": 2
}
